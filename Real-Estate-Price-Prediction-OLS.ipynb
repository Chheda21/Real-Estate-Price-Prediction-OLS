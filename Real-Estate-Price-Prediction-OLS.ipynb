{
 "cells": [
  {
   "cell_type": "markdown",
   "metadata": {
    "id": "VdZLXkr-hQVr"
   },
   "source": [
    "# Linear Regression with OLS\n",
    "\n"
   ]
  },
  {
   "cell_type": "code",
   "execution_count": 28,
   "metadata": {
    "id": "UUs4O4TehQVt"
   },
   "outputs": [
    {
     "data": {
      "text/html": [
       "<div>\n",
       "<style scoped>\n",
       "    .dataframe tbody tr th:only-of-type {\n",
       "        vertical-align: middle;\n",
       "    }\n",
       "\n",
       "    .dataframe tbody tr th {\n",
       "        vertical-align: top;\n",
       "    }\n",
       "\n",
       "    .dataframe thead th {\n",
       "        text-align: right;\n",
       "    }\n",
       "</style>\n",
       "<table border=\"1\" class=\"dataframe\">\n",
       "  <thead>\n",
       "    <tr style=\"text-align: right;\">\n",
       "      <th></th>\n",
       "      <th>MPLS</th>\n",
       "      <th>Price</th>\n",
       "      <th>Bedrooms</th>\n",
       "      <th>Bathrooms</th>\n",
       "      <th>Size</th>\n",
       "      <th>PriceSq</th>\n",
       "    </tr>\n",
       "  </thead>\n",
       "  <tbody>\n",
       "    <tr>\n",
       "      <th>0</th>\n",
       "      <td>132842</td>\n",
       "      <td>795000</td>\n",
       "      <td>3</td>\n",
       "      <td>3</td>\n",
       "      <td>2371</td>\n",
       "      <td>335.30</td>\n",
       "    </tr>\n",
       "    <tr>\n",
       "      <th>1</th>\n",
       "      <td>134364</td>\n",
       "      <td>399000</td>\n",
       "      <td>4</td>\n",
       "      <td>3</td>\n",
       "      <td>2818</td>\n",
       "      <td>141.59</td>\n",
       "    </tr>\n",
       "    <tr>\n",
       "      <th>2</th>\n",
       "      <td>135141</td>\n",
       "      <td>545000</td>\n",
       "      <td>4</td>\n",
       "      <td>3</td>\n",
       "      <td>3032</td>\n",
       "      <td>179.75</td>\n",
       "    </tr>\n",
       "    <tr>\n",
       "      <th>3</th>\n",
       "      <td>135712</td>\n",
       "      <td>909000</td>\n",
       "      <td>4</td>\n",
       "      <td>4</td>\n",
       "      <td>3540</td>\n",
       "      <td>256.78</td>\n",
       "    </tr>\n",
       "    <tr>\n",
       "      <th>4</th>\n",
       "      <td>136282</td>\n",
       "      <td>109900</td>\n",
       "      <td>3</td>\n",
       "      <td>1</td>\n",
       "      <td>1249</td>\n",
       "      <td>87.99</td>\n",
       "    </tr>\n",
       "  </tbody>\n",
       "</table>\n",
       "</div>"
      ],
      "text/plain": [
       "     MPLS   Price  Bedrooms  Bathrooms  Size  PriceSq\n",
       "0  132842  795000         3          3  2371   335.30\n",
       "1  134364  399000         4          3  2818   141.59\n",
       "2  135141  545000         4          3  3032   179.75\n",
       "3  135712  909000         4          4  3540   256.78\n",
       "4  136282  109900         3          1  1249    87.99"
      ]
     },
     "execution_count": 28,
     "metadata": {},
     "output_type": "execute_result"
    }
   ],
   "source": [
    "import numpy as np\n",
    "import pandas as pd\n",
    "import numpy.matlib\n",
    "import matplotlib.pyplot as plt\n",
    "\n",
    "# read dataset\n",
    "df = pd.read_csv(\"housing_price_data.csv\")\n",
    "\n",
    "df.head()"
   ]
  },
  {
   "cell_type": "code",
   "execution_count": 30,
   "metadata": {
    "id": "6WrGP29dhQVz",
    "scrolled": true
   },
   "outputs": [
    {
     "data": {
      "image/png": "[encoded data removed]",
      "text/plain": [
       "<Figure size 640x480 with 1 Axes>"
      ]
     },
     "metadata": {},
     "output_type": "display_data"
    }
   ],
   "source": [
    "# Plot data points\n",
    "X, y = (df[\"Size\"].values,df[\"Price\"].values)\n",
    "X = X.reshape(len(X),1)\n",
    "y = y.reshape(len(y),1)\n",
    "\n",
    "# plots the data points\n",
    "plt.plot(X, y, 'ro')\n",
    "plt.xlabel(\"# Square footage\")\n",
    "plt.ylabel(\"Price\")\n",
    "plt.show()"
   ]
  },
  {
   "cell_type": "code",
   "execution_count": 32,
   "metadata": {
    "id": "HkcL562uhQV3"
   },
   "outputs": [
    {
     "name": "stdout",
     "output_type": "stream",
     "text": [
      "(781, 2)\n",
      "(781, 1)\n"
     ]
    }
   ],
   "source": [
    "# Normalize the house size, e.g., subtract min and divide by (max-min) to ensure \n",
    "# the scale is compatible with the bias, which is 1\n",
    "max_min = X.max(0) - X.min(0)\n",
    "Xmin = X.min(0)\n",
    "X = (X-Xmin) / max_min\n",
    "\n",
    "# Add bias\n",
    "z=np.ones((len(X),1)) \n",
    "X = X.reshape(len(X),1)\n",
    "X = np.concatenate((z,X), axis=1)                \n",
    "y = y.reshape(len(X),1) \n",
    "\n",
    "# sort for testing/plotting\n",
    "Xsort = np.sort(X, axis=0)\n",
    "\n",
    "print(X.shape)\n",
    "print(y.shape)"
   ]
  },
  {
   "cell_type": "markdown",
   "metadata": {
    "id": "A-Q1hE4IBohV"
   },
   "source": [
    "## **OLS METHOD**"
   ]
  },
  {
   "cell_type": "code",
   "execution_count": 34,
   "metadata": {
    "id": "r5Q8-bjuhwd3"
   },
   "outputs": [
    {
     "name": "stdout",
     "output_type": "stream",
     "text": [
      "[[ -79539.00375127]\n",
      " [1891038.30009269]]\n"
     ]
    }
   ],
   "source": [
    "# Linear Regression by Ordinary Least Squares method\n",
    "# TO DO: compute w_ols\n",
    "\n",
    "\n",
    "xt = np.matmul(np.transpose(X), X)\n",
    "\n",
    "x_inv = np.matmul(np.linalg.inv(xt), np.transpose(X))\n",
    "w_ols = np.matmul(x_inv, y)\n",
    "\n",
    "print(w_ols)\n",
    "\n",
    "\n"
   ]
  },
  {
   "cell_type": "code",
   "execution_count": 36,
   "metadata": {
    "id": "j59vS7aAcj2m"
   },
   "outputs": [
    {
     "name": "stdout",
     "output_type": "stream",
     "text": [
      " The price for OLS: [1301938.07775357]\n"
     ]
    }
   ],
   "source": [
    "# TO DO: Predict the price of a 5000 sqft house\n",
    "### Remember to normalize it first\n",
    "\n",
    "size = 5000\n",
    "normalized_size = (size - Xmin)/max_min\n",
    "normailzed_ols = w_ols[0] + w_ols[1]*normalized_size\n",
    "\n",
    "print(\" The price for OLS:\",normailzed_ols)\n",
    "\n"
   ]
  },
  {
   "cell_type": "code",
   "execution_count": 38,
   "metadata": {
    "id": "2OtZlb0fhQWB"
   },
   "outputs": [
    {
     "data": {
      "image/png": "[encoded data removed]",
      "text/plain": [
       "<Figure size 640x480 with 1 Axes>"
      ]
     },
     "metadata": {},
     "output_type": "display_data"
    }
   ],
   "source": [
    "### Plot fitted curve\n",
    "\n",
    "yhat_ols = np.dot(np.sort(X, axis=0),w_ols)\n",
    "\n",
    "plt.plot(X[:,1] * max_min + Xmin, y, 'ro')\n",
    "plt.plot(Xsort[:,1] *max_min + Xmin, yhat_ols, 'g', label=\"Ordinary Least Squares\")\n",
    "plt.legend()\n",
    "plt.xlabel(\"# Square footage\")\n",
    "plt.ylabel(\"Price\")\n",
    "plt.show()\n"
   ]
  },
  {
   "cell_type": "code",
   "execution_count": null,
   "metadata": {},
   "outputs": [],
   "source": []
  }
 ],
 "metadata": {
  "colab": {
   "provenance": []
  },
  "kernelspec": {
   "display_name": "Python 3 (ipykernel)",
   "language": "python",
   "name": "python3"
  },
  "language_info": {
   "codemirror_mode": {
    "name": "ipython",
    "version": 3
   },
   "file_extension": ".py",
   "mimetype": "text/x-python",
   "name": "python",
   "nbconvert_exporter": "python",
   "pygments_lexer": "ipython3",
   "version": "3.12.4"
  }
 },
 "nbformat": 4,
 "nbformat_minor": 4
}
